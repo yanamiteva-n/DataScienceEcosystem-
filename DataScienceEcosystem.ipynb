{
 "cells": [
  {
   "cell_type": "markdown",
   "id": "6dc451c2-ff3c-4d31-a0c2-d0ac02f76fee",
   "metadata": {},
   "source": [
    "# Data Science Tools and Ecosystem"
   ]
  },
  {
   "cell_type": "markdown",
   "id": "3926d9e4-4fd3-4398-b6b9-02ffadbf3961",
   "metadata": {},
   "source": [
    "## Author \n",
    "Yana Miteva "
   ]
  },
  {
   "cell_type": "markdown",
   "id": "7411e184-adf2-41a3-a5fb-bb2953fc3ff4",
   "metadata": {},
   "source": [
    "In this notebook, Data Science Tools and Ecosystem are summarized."
   ]
  },
  {
   "cell_type": "markdown",
   "id": "26c2e5a9-439e-44f1-8b0d-22eab5adb68d",
   "metadata": {},
   "source": [
    "**Objectives**\n",
    "- List popular languages for Data Science\n",
    "- List popular open source tools for Data Science\n",
    "- Learn how to use Jupyter Notebook\n",
    "- List additional cloud based Jupyter Environments "
   ]
  },
  {
   "cell_type": "markdown",
   "id": "e058ec40-dbd1-44e5-9be5-4eb8d318ea76",
   "metadata": {},
   "source": [
    "Some of the popular languages that Data Scientists use are:\n",
    "1. Java\n",
    "2. R\n",
    "3. Julia\n",
    "4. Python "
   ]
  },
  {
   "cell_type": "markdown",
   "id": "c2304cc7-7a65-4bbc-8d46-6addc9c5c0e0",
   "metadata": {},
   "source": [
    "Some of the commonly used libraries used by Data Scientists include:\n",
    "1. NumPy: For numerical computing and array operations\n",
    "2. Pandas: For data manipulation, analysis, and cleaning\n",
    "3. Scikit-learn: For machine learning tasks including classification, regression, and clustering"
   ]
  },
  {
   "cell_type": "markdown",
   "id": "591907d0-1a71-4139-a415-fc546ca1b99b",
   "metadata": {},
   "source": [
    "| Data Science Tools |\n",
    "| ------------------ |\n",
    "| Jupyter Notebook |\n",
    "| RStudio |\n",
    "| Apache Zeppelin |"
   ]
  },
  {
   "cell_type": "markdown",
   "id": "757c1e0a-d523-480e-94a3-eae766ecc4d0",
   "metadata": {},
   "source": [
    "### Below are a few examples of evaluating arithmetic expressions in Python\n"
   ]
  },
  {
   "cell_type": "code",
   "execution_count": 12,
   "id": "a4c8198b-dd4f-4642-bb9a-9c9d854ce9ca",
   "metadata": {},
   "outputs": [
    {
     "data": {
      "text/plain": [
       "17"
      ]
     },
     "execution_count": 12,
     "metadata": {},
     "output_type": "execute_result"
    }
   ],
   "source": [
    "# This a simple arithmetic expression to mutiply then add integers\n",
    "(3*4)+5"
   ]
  },
  {
   "cell_type": "code",
   "execution_count": 14,
   "id": "38f10de0-00c4-48a7-8088-95d33331c5cd",
   "metadata": {},
   "outputs": [
    {
     "data": {
      "text/plain": [
       "3.3333333333333335"
      ]
     },
     "execution_count": 14,
     "metadata": {},
     "output_type": "execute_result"
    }
   ],
   "source": [
    "# This will convert 200 minutes to hours by diving by 60\n",
    "200/60"
   ]
  }
 ],
 "metadata": {
  "kernelspec": {
   "display_name": "Python 3 (ipykernel)",
   "language": "python",
   "name": "python3"
  },
  "language_info": {
   "codemirror_mode": {
    "name": "ipython",
    "version": 3
   },
   "file_extension": ".py",
   "mimetype": "text/x-python",
   "name": "python",
   "nbconvert_exporter": "python",
   "pygments_lexer": "ipython3",
   "version": "3.12.7"
  }
 },
 "nbformat": 4,
 "nbformat_minor": 5
}
